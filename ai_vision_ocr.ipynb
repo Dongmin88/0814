{
 "cells": [
  {
   "cell_type": "code",
   "execution_count": 11,
   "metadata": {},
   "outputs": [],
   "source": [
    "import requests\n",
    "import gradio as gr\n",
    "from PIL import Image, ImageDraw, ImageFont"
   ]
  },
  {
   "cell_type": "code",
   "execution_count": 10,
   "metadata": {},
   "outputs": [],
   "source": [
    "def request_vision(image_path):\n",
    "    endpoint = f\"https://b03-wu-computevision.cognitiveservices.azure.com/computervision/imageanalysis:analyze\"\n",
    "    api_key = \"9449713d7130431682c61b06fa03559d\"\n",
    "    \n",
    "    headers = {\n",
    "        \"Ocp-Apim-Subscription-Key\": api_key,\n",
    "        \"Content-Type\": \"application/octet-stream\"\n",
    "    }\n",
    "    params = {\n",
    "        \"features\": 'read',\n",
    "        \"api-version\": \"2024-02-01\"\n",
    "    }\n",
    "    \n",
    "    with open(image_path, 'rb') as image:\n",
    "        image_data = image.read()\n",
    "        \n",
    "    response = requests.post(endpoint,headers=headers,params=params,data=image_data)\n",
    "    return response.json()\n",
    "    #endpoint, api_key 정보\n",
    "    #헤더를 만들고\n",
    "    #파라미터를 만들고\n",
    "    #이미지 데이터를 불러와서\n",
    "    #api를 호출\n",
    "    #받은 response를 json으로 파싱\n",
    "    #리턴"
   ]
  },
  {
   "cell_type": "code",
   "execution_count": 12,
   "metadata": {},
   "outputs": [],
   "source": [
    "def change_image(image_path):\n",
    "    image = Image.open(image_path)\n",
    "    draw = ImageDraw.Draw(image)\n",
    "    \n",
    "    font = ImageFont.truetype('malgun.ttf', size=20)\n",
    "    \n",
    "    response_json = request_vision(image_path)\n",
    "    if 'readResult' in response_json and 'blocks' in response_json['readResult']:\n",
    "        block_list = response_json['readResult']['blocks']\n",
    "        \n",
    "        for block in block_list:\n",
    "            line_list = block['lines']\n",
    "            for line in line_list:\n",
    "                text = line['text']\n",
    "                bounding_polygon = line['boundingPolygon']\n",
    "                polygon=list(map(lambda p: (p['x'],p['y']), bounding_polygon))\n",
    "                draw.polygon(polygon, outline='red',fill=None, width=3)\n",
    "                draw.text((bounding_polygon[1]['x'],bounding_polygon[1]['y']+3), text=text,fill='green',font=font)\n",
    "                \n",
    "                print(text, bounding_polygon)\n",
    "                \n",
    "    print(response_json)\n",
    "    \n",
    "    #request_vision으로 사진 이미지 전송.\n",
    "    #데이터를 리턴 받고,\n",
    "    #데이터를 파싱하고,\n",
    "    #텍스트를 보여주고,\n",
    "    #polygon를 이미지에 보여준다.\n",
    "    #이미지를 리턴 해준다.\n",
    "    \n",
    "    return image"
   ]
  },
  {
   "cell_type": "code",
   "execution_count": 13,
   "metadata": {},
   "outputs": [
    {
     "name": "stdout",
     "output_type": "stream",
     "text": [
      "Running on local URL:  http://127.0.0.1:7871\n",
      "\n",
      "To create a public link, set `share=True` in `launch()`.\n"
     ]
    },
    {
     "data": {
      "text/html": [
       "<div><iframe src=\"http://127.0.0.1:7871/\" width=\"100%\" height=\"500\" allow=\"autoplay; camera; microphone; clipboard-read; clipboard-write;\" frameborder=\"0\" allowfullscreen></iframe></div>"
      ],
      "text/plain": [
       "<IPython.core.display.HTML object>"
      ]
     },
     "metadata": {},
     "output_type": "display_data"
    },
    {
     "data": {
      "text/plain": []
     },
     "execution_count": 13,
     "metadata": {},
     "output_type": "execute_result"
    },
    {
     "name": "stdout",
     "output_type": "stream",
     "text": [
      "내가 5년째 [{'x': 259, 'y': 73}, {'x': 725, 'y': 76}, {'x': 725, 'y': 172}, {'x': 259, 'y': 170}]\n",
      "테슬라만 타는 이유 [{'x': 84, 'y': 191}, {'x': 901, 'y': 193}, {'x': 900, 'y': 292}, {'x': 84, 'y': 289}]\n",
      "B 방화대교북단 [{'x': 432, 'y': 521}, {'x': 500, 'y': 518}, {'x': 501, 'y': 530}, {'x': 432, 'y': 534}]\n",
      "양화대교 B [{'x': 427, 'y': 554}, {'x': 497, 'y': 554}, {'x': 497, 'y': 567}, {'x': 426, 'y': 566}]\n",
      "1 [{'x': 769, 'y': 781}, {'x': 782, 'y': 782}, {'x': 782, 'y': 797}, {'x': 768, 'y': 797}]\n",
      "1.5 km [{'x': 789, 'y': 779}, {'x': 828, 'y': 779}, {'x': 828, 'y': 789}, {'x': 789, 'y': 789}]\n",
      "218m [{'x': 888, 'y': 821}, {'x': 913, 'y': 821}, {'x': 913, 'y': 827}, {'x': 888, 'y': 827}]\n",
      "42 [{'x': 553, 'y': 829}, {'x': 582, 'y': 830}, {'x': 580, 'y': 850}, {'x': 552, 'y': 850}]\n",
      "90 [{'x': 589, 'y': 827}, {'x': 605, 'y': 828}, {'x': 605, 'y': 840}, {'x': 589, 'y': 840}]\n",
      "A [{'x': 360, 'y': 851}, {'x': 369, 'y': 851}, {'x': 370, 'y': 861}, {'x': 359, 'y': 861}]\n",
      "3 [{'x': 186, 'y': 1025}, {'x': 184, 'y': 1015}, {'x': 197, 'y': 1013}, {'x': 199, 'y': 1022}]\n",
      "22 [{'x': 837, 'y': 1063}, {'x': 855, 'y': 1065}, {'x': 854, 'y': 1073}, {'x': 835, 'y': 1072}]\n",
      "TESLA [{'x': 378, 'y': 1082}, {'x': 548, 'y': 1124}, {'x': 542, 'y': 1149}, {'x': 374, 'y': 1106}]\n",
      "0 [{'x': 755, 'y': 1179}, {'x': 765, 'y': 1181}, {'x': 765, 'y': 1195}, {'x': 755, 'y': 1195}]\n",
      "마지막은 진짜 미친듯 .. [{'x': 184, 'y': 1223}, {'x': 782, 'y': 1223}, {'x': 782, 'y': 1290}, {'x': 184, 'y': 1291}]\n",
      "{'modelVersion': '2023-10-01', 'captionResult': {'text': 'a view from inside a car', 'confidence': 0.6884835362434387}, 'metadata': {'width': 937, 'height': 1393}, 'readResult': {'blocks': [{'lines': [{'text': '내가 5년째', 'boundingPolygon': [{'x': 259, 'y': 73}, {'x': 725, 'y': 76}, {'x': 725, 'y': 172}, {'x': 259, 'y': 170}], 'words': [{'text': '내', 'boundingPolygon': [{'x': 260, 'y': 73}, {'x': 311, 'y': 74}, {'x': 311, 'y': 172}, {'x': 260, 'y': 172}], 'confidence': 0.996}, {'text': '가', 'boundingPolygon': [{'x': 350, 'y': 75}, {'x': 411, 'y': 76}, {'x': 411, 'y': 172}, {'x': 350, 'y': 172}], 'confidence': 0.996}, {'text': '5', 'boundingPolygon': [{'x': 462, 'y': 77}, {'x': 523, 'y': 78}, {'x': 523, 'y': 172}, {'x': 462, 'y': 172}], 'confidence': 0.983}, {'text': '년', 'boundingPolygon': [{'x': 537, 'y': 78}, {'x': 610, 'y': 79}, {'x': 610, 'y': 172}, {'x': 537, 'y': 172}], 'confidence': 0.994}, {'text': '째', 'boundingPolygon': [{'x': 624, 'y': 79}, {'x': 684, 'y': 79}, {'x': 684, 'y': 171}, {'x': 624, 'y': 172}], 'confidence': 0.987}]}, {'text': '테슬라만 타는 이유', 'boundingPolygon': [{'x': 84, 'y': 191}, {'x': 901, 'y': 193}, {'x': 900, 'y': 292}, {'x': 84, 'y': 289}], 'words': [{'text': '테', 'boundingPolygon': [{'x': 85, 'y': 191}, {'x': 152, 'y': 191}, {'x': 152, 'y': 290}, {'x': 85, 'y': 290}], 'confidence': 0.994}, {'text': '슬', 'boundingPolygon': [{'x': 193, 'y': 191}, {'x': 256, 'y': 191}, {'x': 256, 'y': 291}, {'x': 193, 'y': 291}], 'confidence': 0.989}, {'text': '라', 'boundingPolygon': [{'x': 271, 'y': 191}, {'x': 335, 'y': 191}, {'x': 335, 'y': 292}, {'x': 271, 'y': 291}], 'confidence': 0.996}, {'text': '만', 'boundingPolygon': [{'x': 363, 'y': 191}, {'x': 426, 'y': 192}, {'x': 426, 'y': 292}, {'x': 363, 'y': 292}], 'confidence': 0.996}, {'text': '타', 'boundingPolygon': [{'x': 480, 'y': 192}, {'x': 557, 'y': 192}, {'x': 557, 'y': 292}, {'x': 480, 'y': 292}], 'confidence': 0.993}, {'text': '는', 'boundingPolygon': [{'x': 598, 'y': 192}, {'x': 662, 'y': 193}, {'x': 662, 'y': 292}, {'x': 598, 'y': 292}], 'confidence': 0.996}, {'text': '이', 'boundingPolygon': [{'x': 703, 'y': 193}, {'x': 766, 'y': 194}, {'x': 766, 'y': 292}, {'x': 703, 'y': 292}], 'confidence': 0.996}, {'text': '유', 'boundingPolygon': [{'x': 807, 'y': 194}, {'x': 871, 'y': 195}, {'x': 871, 'y': 292}, {'x': 807, 'y': 292}], 'confidence': 0.996}]}, {'text': 'B 방화대교북단', 'boundingPolygon': [{'x': 432, 'y': 521}, {'x': 500, 'y': 518}, {'x': 501, 'y': 530}, {'x': 432, 'y': 534}], 'words': [{'text': 'B', 'boundingPolygon': [{'x': 436, 'y': 521}, {'x': 444, 'y': 521}, {'x': 444, 'y': 534}, {'x': 436, 'y': 534}], 'confidence': 0.915}, {'text': '방', 'boundingPolygon': [{'x': 446, 'y': 521}, {'x': 453, 'y': 521}, {'x': 453, 'y': 533}, {'x': 446, 'y': 533}], 'confidence': 0.178}, {'text': '화', 'boundingPolygon': [{'x': 455, 'y': 521}, {'x': 463, 'y': 520}, {'x': 463, 'y': 533}, {'x': 455, 'y': 533}], 'confidence': 0.939}, {'text': '대', 'boundingPolygon': [{'x': 463, 'y': 520}, {'x': 471, 'y': 520}, {'x': 471, 'y': 532}, {'x': 463, 'y': 532}], 'confidence': 0.938}, {'text': '교', 'boundingPolygon': [{'x': 473, 'y': 520}, {'x': 482, 'y': 520}, {'x': 482, 'y': 532}, {'x': 473, 'y': 532}], 'confidence': 0.922}, {'text': '북', 'boundingPolygon': [{'x': 482, 'y': 520}, {'x': 490, 'y': 519}, {'x': 490, 'y': 531}, {'x': 482, 'y': 532}], 'confidence': 0.735}, {'text': '단', 'boundingPolygon': [{'x': 492, 'y': 519}, {'x': 499, 'y': 519}, {'x': 499, 'y': 531}, {'x': 492, 'y': 531}], 'confidence': 0.168}]}, {'text': '양화대교 B', 'boundingPolygon': [{'x': 427, 'y': 554}, {'x': 497, 'y': 554}, {'x': 497, 'y': 567}, {'x': 426, 'y': 566}], 'words': [{'text': '양', 'boundingPolygon': [{'x': 430, 'y': 554}, {'x': 437, 'y': 554}, {'x': 436, 'y': 565}, {'x': 429, 'y': 565}], 'confidence': 0.986}, {'text': '화', 'boundingPolygon': [{'x': 442, 'y': 554}, {'x': 449, 'y': 554}, {'x': 448, 'y': 564}, {'x': 441, 'y': 564}], 'confidence': 0.967}, {'text': '대', 'boundingPolygon': [{'x': 453, 'y': 554}, {'x': 461, 'y': 554}, {'x': 460, 'y': 565}, {'x': 453, 'y': 565}], 'confidence': 0.986}, {'text': '교', 'boundingPolygon': [{'x': 468, 'y': 554}, {'x': 476, 'y': 554}, {'x': 475, 'y': 566}, {'x': 468, 'y': 565}], 'confidence': 0.84}, {'text': 'B', 'boundingPolygon': [{'x': 485, 'y': 554}, {'x': 492, 'y': 554}, {'x': 492, 'y': 568}, {'x': 485, 'y': 567}], 'confidence': 0.731}]}, {'text': '1', 'boundingPolygon': [{'x': 769, 'y': 781}, {'x': 782, 'y': 782}, {'x': 782, 'y': 797}, {'x': 768, 'y': 797}], 'words': [{'text': '1', 'boundingPolygon': [{'x': 770, 'y': 781}, {'x': 781, 'y': 781}, {'x': 780, 'y': 797}, {'x': 769, 'y': 796}], 'confidence': 0.694}]}, {'text': '1.5 km', 'boundingPolygon': [{'x': 789, 'y': 779}, {'x': 828, 'y': 779}, {'x': 828, 'y': 789}, {'x': 789, 'y': 789}], 'words': [{'text': '1.5', 'boundingPolygon': [{'x': 792, 'y': 779}, {'x': 805, 'y': 779}, {'x': 805, 'y': 790}, {'x': 791, 'y': 790}], 'confidence': 0.997}, {'text': 'km', 'boundingPolygon': [{'x': 810, 'y': 780}, {'x': 823, 'y': 780}, {'x': 823, 'y': 789}, {'x': 810, 'y': 790}], 'confidence': 0.959}]}, {'text': '218m', 'boundingPolygon': [{'x': 888, 'y': 821}, {'x': 913, 'y': 821}, {'x': 913, 'y': 827}, {'x': 888, 'y': 827}], 'words': [{'text': '218m', 'boundingPolygon': [{'x': 890, 'y': 821}, {'x': 910, 'y': 822}, {'x': 909, 'y': 828}, {'x': 889, 'y': 828}], 'confidence': 0.553}]}, {'text': '42', 'boundingPolygon': [{'x': 553, 'y': 829}, {'x': 582, 'y': 830}, {'x': 580, 'y': 850}, {'x': 552, 'y': 850}], 'words': [{'text': '42', 'boundingPolygon': [{'x': 553, 'y': 829}, {'x': 580, 'y': 829}, {'x': 580, 'y': 850}, {'x': 552, 'y': 849}], 'confidence': 0.993}]}, {'text': '90', 'boundingPolygon': [{'x': 589, 'y': 827}, {'x': 605, 'y': 828}, {'x': 605, 'y': 840}, {'x': 589, 'y': 840}], 'words': [{'text': '90', 'boundingPolygon': [{'x': 592, 'y': 827}, {'x': 605, 'y': 827}, {'x': 604, 'y': 840}, {'x': 592, 'y': 840}], 'confidence': 0.9}]}, {'text': 'A', 'boundingPolygon': [{'x': 360, 'y': 851}, {'x': 369, 'y': 851}, {'x': 370, 'y': 861}, {'x': 359, 'y': 861}], 'words': [{'text': 'A', 'boundingPolygon': [{'x': 359, 'y': 851}, {'x': 366, 'y': 851}, {'x': 366, 'y': 861}, {'x': 359, 'y': 861}], 'confidence': 0.986}]}, {'text': '3', 'boundingPolygon': [{'x': 186, 'y': 1025}, {'x': 184, 'y': 1015}, {'x': 197, 'y': 1013}, {'x': 199, 'y': 1022}], 'words': [{'text': '3', 'boundingPolygon': [{'x': 186, 'y': 1024}, {'x': 184, 'y': 1015}, {'x': 198, 'y': 1013}, {'x': 200, 'y': 1021}], 'confidence': 0.836}]}, {'text': '22', 'boundingPolygon': [{'x': 837, 'y': 1063}, {'x': 855, 'y': 1065}, {'x': 854, 'y': 1073}, {'x': 835, 'y': 1072}], 'words': [{'text': '22', 'boundingPolygon': [{'x': 836, 'y': 1063}, {'x': 849, 'y': 1063}, {'x': 849, 'y': 1072}, {'x': 835, 'y': 1071}], 'confidence': 0.928}]}, {'text': 'TESLA', 'boundingPolygon': [{'x': 378, 'y': 1082}, {'x': 548, 'y': 1124}, {'x': 542, 'y': 1149}, {'x': 374, 'y': 1106}], 'words': [{'text': 'TESLA', 'boundingPolygon': [{'x': 379, 'y': 1083}, {'x': 531, 'y': 1121}, {'x': 527, 'y': 1145}, {'x': 375, 'y': 1108}], 'confidence': 0.171}]}, {'text': '0', 'boundingPolygon': [{'x': 755, 'y': 1179}, {'x': 765, 'y': 1181}, {'x': 765, 'y': 1195}, {'x': 755, 'y': 1195}], 'words': [{'text': '0', 'boundingPolygon': [{'x': 755, 'y': 1179}, {'x': 766, 'y': 1180}, {'x': 764, 'y': 1196}, {'x': 755, 'y': 1195}], 'confidence': 0.773}]}, {'text': '마지막은 진짜 미친듯 ..', 'boundingPolygon': [{'x': 184, 'y': 1223}, {'x': 782, 'y': 1223}, {'x': 782, 'y': 1290}, {'x': 184, 'y': 1291}], 'words': [{'text': '마', 'boundingPolygon': [{'x': 186, 'y': 1224}, {'x': 231, 'y': 1224}, {'x': 230, 'y': 1292}, {'x': 184, 'y': 1292}], 'confidence': 0.994}, {'text': '지', 'boundingPolygon': [{'x': 242, 'y': 1224}, {'x': 285, 'y': 1223}, {'x': 284, 'y': 1292}, {'x': 241, 'y': 1292}], 'confidence': 0.995}, {'text': '막', 'boundingPolygon': [{'x': 304, 'y': 1223}, {'x': 357, 'y': 1223}, {'x': 356, 'y': 1292}, {'x': 303, 'y': 1292}], 'confidence': 0.994}, {'text': '은', 'boundingPolygon': [{'x': 358, 'y': 1223}, {'x': 402, 'y': 1223}, {'x': 401, 'y': 1292}, {'x': 357, 'y': 1292}], 'confidence': 0.992}, {'text': '진', 'boundingPolygon': [{'x': 438, 'y': 1223}, {'x': 491, 'y': 1223}, {'x': 491, 'y': 1292}, {'x': 438, 'y': 1292}], 'confidence': 0.994}, {'text': '짜', 'boundingPolygon': [{'x': 492, 'y': 1223}, {'x': 536, 'y': 1223}, {'x': 535, 'y': 1292}, {'x': 492, 'y': 1292}], 'confidence': 0.996}, {'text': '미', 'boundingPolygon': [{'x': 564, 'y': 1223}, {'x': 616, 'y': 1224}, {'x': 616, 'y': 1291}, {'x': 563, 'y': 1292}], 'confidence': 0.995}, {'text': '친', 'boundingPolygon': [{'x': 635, 'y': 1224}, {'x': 679, 'y': 1224}, {'x': 679, 'y': 1291}, {'x': 635, 'y': 1291}], 'confidence': 0.993}, {'text': '듯', 'boundingPolygon': [{'x': 698, 'y': 1224}, {'x': 733, 'y': 1224}, {'x': 733, 'y': 1290}, {'x': 698, 'y': 1291}], 'confidence': 0.994}, {'text': '..', 'boundingPolygon': [{'x': 734, 'y': 1224}, {'x': 776, 'y': 1224}, {'x': 776, 'y': 1290}, {'x': 734, 'y': 1290}], 'confidence': 0.977}]}]}]}}\n"
     ]
    },
    {
     "ename": "",
     "evalue": "",
     "output_type": "error",
     "traceback": [
      "\u001b[1;31m현재 셀 또는 이전 셀에서 코드를 실행하는 동안 Kernel이 충돌했습니다. \n",
      "\u001b[1;31m셀의 코드를 검토하여 가능한 오류 원인을 식별하세요. \n",
      "\u001b[1;31m자세한 내용을 보려면 <a href='https://aka.ms/vscodeJupyterKernelCrash'>여기</a>를 클릭하세요. \n",
      "\u001b[1;31m자세한 내용은 Jupyter <a href='command:jupyter.viewOutput'>로그</a>를 참조하세요."
     ]
    }
   ],
   "source": [
    "with gr.Blocks() as demo:\n",
    "    \n",
    "    input_image=gr.Image(label='이미지 선택', type='filepath',width=800)\n",
    "    output_image=gr.Image(label='결과 이미지', type='pil', interactive=False, width=800)\n",
    "    \n",
    "    input_image.change(fn=change_image, inputs=[input_image],outputs=[output_image])\n",
    "demo.launch()"
   ]
  }
 ],
 "metadata": {
  "kernelspec": {
   "display_name": "Python 3",
   "language": "python",
   "name": "python3"
  },
  "language_info": {
   "codemirror_mode": {
    "name": "ipython",
    "version": 3
   },
   "file_extension": ".py",
   "mimetype": "text/x-python",
   "name": "python",
   "nbconvert_exporter": "python",
   "pygments_lexer": "ipython3",
   "version": "3.12.4"
  }
 },
 "nbformat": 4,
 "nbformat_minor": 2
}
